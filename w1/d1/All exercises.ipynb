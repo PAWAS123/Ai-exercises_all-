{
 "cells": [
  {
   "cell_type": "code",
   "execution_count": 1,
   "metadata": {
    "ExecuteTime": {
     "end_time": "2020-12-02T11:50:47.964154Z",
     "start_time": "2020-12-02T11:50:47.956839Z"
    }
   },
   "outputs": [
    {
     "name": "stdout",
     "output_type": "stream",
     "text": [
      "945.4499999999999\n"
     ]
    }
   ],
   "source": [
    "#Exercise1.1\n",
    "n_copies=60    #no.of copies\n",
    "cov_cost=24.95*.6   \n",
    "ship_cost_first=3\n",
    "ship_cost_rest=.75*(n_copies-1)\n",
    "wholesale_cost=cov_cost*n_copies+ship_cost_first+ship_cost_rest\n",
    "print(wholesale_cost)"
   ]
  },
  {
   "cell_type": "code",
   "execution_count": 6,
   "metadata": {
    "ExecuteTime": {
     "end_time": "2020-12-02T11:54:55.313091Z",
     "start_time": "2020-12-02T11:54:55.303305Z"
    }
   },
   "outputs": [
    {
     "ename": "ZeroDivisionError",
     "evalue": "division by zero",
     "output_type": "error",
     "traceback": [
      "\u001b[1;31m---------------------------------------------------------------------------\u001b[0m",
      "\u001b[1;31mZeroDivisionError\u001b[0m                         Traceback (most recent call last)",
      "\u001b[1;32m<ipython-input-6-dc10795b27b7>\u001b[0m in \u001b[0;36m<module>\u001b[1;34m\u001b[0m\n\u001b[0;32m      2\u001b[0m \u001b[0mx\u001b[0m\u001b[1;33m=\u001b[0m\u001b[1;36m5\u001b[0m\u001b[1;33m\u001b[0m\u001b[1;33m\u001b[0m\u001b[0m\n\u001b[0;32m      3\u001b[0m \u001b[0mz\u001b[0m\u001b[1;33m=\u001b[0m\u001b[1;36m0\u001b[0m\u001b[1;33m\u001b[0m\u001b[1;33m\u001b[0m\u001b[0m\n\u001b[1;32m----> 4\u001b[1;33m \u001b[0ms\u001b[0m\u001b[1;33m=\u001b[0m\u001b[0mx\u001b[0m\u001b[1;33m/\u001b[0m\u001b[0mz\u001b[0m\u001b[1;33m\u001b[0m\u001b[1;33m\u001b[0m\u001b[0m\n\u001b[0m",
      "\u001b[1;31mZeroDivisionError\u001b[0m: division by zero"
     ]
    }
   ],
   "source": [
    "#Exercise1.2\n",
    "x=5\n",
    "z=0\n",
    "s=x/z"
   ]
  },
  {
   "cell_type": "code",
   "execution_count": 113,
   "metadata": {
    "ExecuteTime": {
     "end_time": "2020-12-02T13:57:30.182723Z",
     "start_time": "2020-12-02T13:57:30.178845Z"
    }
   },
   "outputs": [
    {
     "name": "stdout",
     "output_type": "stream",
     "text": [
      "21.0\n"
     ]
    }
   ],
   "source": [
    "#Exercise 1.3\n",
    "time=14.0\n",
    "newtime=time+(535%24)\n",
    "print(newtime)"
   ]
  },
  {
   "cell_type": "code",
   "execution_count": 55,
   "metadata": {
    "ExecuteTime": {
     "end_time": "2020-12-02T12:50:33.958314Z",
     "start_time": "2020-12-02T12:50:33.951481Z"
    }
   },
   "outputs": [
    {
     "data": {
      "text/plain": [
       "{'p': 1, 'a': 3, 'w': 1, 's': 2, ' ': 3, 'i': 1, 'b': 1, 'o': 1, 'y': 1}"
      ]
     },
     "execution_count": 55,
     "metadata": {},
     "output_type": "execute_result"
    }
   ],
   "source": [
    "#Exercise 4.1\n",
    "def freq(word):\n",
    "    s=word.lower()\n",
    "    d={}\n",
    "    for i in s:\n",
    "        d[i]=s.count(i)\n",
    "    return d    \n",
    "freq(\"pAwas\")"
   ]
  },
  {
   "cell_type": "code",
   "execution_count": 112,
   "metadata": {
    "ExecuteTime": {
     "end_time": "2020-12-02T13:47:10.224463Z",
     "start_time": "2020-12-02T13:47:10.218609Z"
    }
   },
   "outputs": [
    {
     "name": "stdout",
     "output_type": "stream",
     "text": [
      "10\n",
      "9\n",
      "8\n",
      "7\n",
      "6\n",
      "5\n",
      "4\n",
      "3\n",
      "2\n",
      "1\n",
      "blast off\n"
     ]
    }
   ],
   "source": [
    "#Exercise 5.1\n",
    "def countdown(n):\n",
    "    for i in range(n,0,-1):\n",
    "        print(i)\n",
    "    print(\"blast off\")\n",
    "countdown(10)    "
   ]
  },
  {
   "cell_type": "code",
   "execution_count": null,
   "metadata": {
    "ExecuteTime": {
     "end_time": "2020-12-02T13:11:03.715015Z",
     "start_time": "2020-12-02T13:08:35.594Z"
    }
   },
   "outputs": [],
   "source": [
    "#Exercise 5.2\n",
    "a=[2, 4, 6, 12, 15, 99, 100]\n",
    "def maxim(arr):\n",
    "    return max(arr)\n",
    "\n",
    "def minim(arr):\n",
    "    return min(arr)\n",
    "\n",
    "def divid(arr):\n",
    "    c=0\n",
    "    for i in arr:\n",
    "        if i%3==0:\n",
    "            c+=1\n",
    "    return c        \n",
    "\n",
    "print(maxim(a))\n",
    "print(minim(a))\n",
    "print(divid(a))\n"
   ]
  },
  {
   "cell_type": "code",
   "execution_count": 120,
   "metadata": {
    "ExecuteTime": {
     "end_time": "2020-12-02T14:50:37.073745Z",
     "start_time": "2020-12-02T14:50:37.069848Z"
    }
   },
   "outputs": [
    {
     "name": "stdout",
     "output_type": "stream",
     "text": [
      "5 bottles of beer on the wall, 5 bottles of beer. Take one down, pass it around, 4 bottles of beer in the wall\n",
      "4 bottles of beer on the wall, 4 bottles of beer. Take one down, pass it around, 3 bottles of beer in the wall\n",
      "3 bottles of beer on the wall, 3 bottles of beer. Take one down, pass it around, 2 bottles of beer in the wall\n",
      "2 bottles of beer on the wall, 2 bottles of beer. Take one down, pass it around, 1 bottles of beer in the wall\n",
      "1 bottles of beer on the wall, 1 bottles of beer. Take one down, pass it around, 0 bottles of beer in the wall\n"
     ]
    }
   ],
   "source": [
    "#Exercise 5.4\n",
    "def bottles(n):\n",
    "    for i in range(n,0,-1):\n",
    "        print(\"{0} bottles of beer on the wall, {0} bottles of beer. Take one down, pass it around, {1} bottles of beer in the wall\".format(i,i-1))\n",
    "\n",
    "bottles(5)        "
   ]
  },
  {
   "cell_type": "code",
   "execution_count": 111,
   "metadata": {
    "ExecuteTime": {
     "end_time": "2020-12-02T13:26:25.916155Z",
     "start_time": "2020-12-02T13:26:25.910299Z"
    }
   },
   "outputs": [
    {
     "name": "stdout",
     "output_type": "stream",
     "text": [
      "[0, 1, 1, 2, 3, 5, 8, 13, 21, 34]\n"
     ]
    }
   ],
   "source": [
    "#Exercise 5.5\n",
    "def fibonacci(num):\n",
    "    if num<0: \n",
    "        print(\"not correct\")\n",
    "    elif num==0:\n",
    "        return 0\n",
    "    else:\n",
    "        \n",
    "        lst=[0,1]\n",
    "        a=0\n",
    "        b=1\n",
    "        while (lst[-1]+lst[-2])<=num:\n",
    "            \n",
    "            sum=a+b\n",
    "            lst.append(sum)\n",
    "            a=b\n",
    "            b=sum\n",
    "        return lst   \n",
    "    \n",
    "\n",
    "print(fibonacci(35))"
   ]
  },
  {
   "cell_type": "code",
   "execution_count": 134,
   "metadata": {
    "ExecuteTime": {
     "end_time": "2020-12-02T15:32:13.435788Z",
     "start_time": "2020-12-02T15:32:13.429892Z"
    }
   },
   "outputs": [
    {
     "name": "stdout",
     "output_type": "stream",
     "text": [
      "2\n",
      "3\n",
      "5\n",
      "7\n"
     ]
    }
   ],
   "source": [
    "#Exercise 5.6\n",
    "def prime(n):\n",
    "    for num in range(2,n):\n",
    "        for i in range(2,num):\n",
    "            if num%i==0:\n",
    "                break\n",
    "        else:\n",
    "            print(num)\n",
    "prime(9)          "
   ]
  }
 ],
 "metadata": {
  "kernelspec": {
   "display_name": "Python 3",
   "language": "python",
   "name": "python3"
  },
  "language_info": {
   "codemirror_mode": {
    "name": "ipython",
    "version": 3
   },
   "file_extension": ".py",
   "mimetype": "text/x-python",
   "name": "python",
   "nbconvert_exporter": "python",
   "pygments_lexer": "ipython3",
   "version": "3.8.5"
  }
 },
 "nbformat": 4,
 "nbformat_minor": 4
}
